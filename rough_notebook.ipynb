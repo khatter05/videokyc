{
 "cells": [
  {
   "cell_type": "markdown",
   "id": "d4e9ac93-0f13-4001-a21a-f8f2c786d927",
   "metadata": {},
   "source": [
    "import libraries"
   ]
  },
  {
   "cell_type": "code",
   "execution_count": 5,
   "id": "71ef9a1d-09f5-48ad-a507-82df2069d1fb",
   "metadata": {},
   "outputs": [],
   "source": [
    "#!pip install easyocr"
   ]
  }
 ],
 "metadata": {
  "kernelspec": {
   "display_name": "Python [conda env:kyc]",
   "language": "python",
   "name": "conda-env-kyc-py"
  },
  "language_info": {
   "codemirror_mode": {
    "name": "ipython",
    "version": 3
   },
   "file_extension": ".py",
   "mimetype": "text/x-python",
   "name": "python",
   "nbconvert_exporter": "python",
   "pygments_lexer": "ipython3",
   "version": "3.11.11"
  }
 },
 "nbformat": 4,
 "nbformat_minor": 5
}
